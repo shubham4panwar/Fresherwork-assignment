{
 "cells": [
  {
   "cell_type": "code",
   "execution_count": 3,
   "metadata": {},
   "outputs": [],
   "source": [
    "import threading \n",
    "from threading import*\n",
    "import time\n",
    "\n",
    "d={} \n",
    "\n",
    "def create(key,value,timeout=0):\n",
    "    if key in d:\n",
    "        print(\"error: key already exists\") \n",
    "    else:\n",
    "        if(key.isalpha()):\n",
    "            if len(d)<(1024*1024*1024) and value<=(16*1024*1024): \n",
    "                if timeout==0:\n",
    "                    l=[value,timeout]\n",
    "                else:\n",
    "                    l=[value,time.time()+timeout]\n",
    "                if len(key)<=32:\n",
    "                    d[key]=l\n",
    "            else:\n",
    "                print(\"error: Memory limit exceeded! \")\n",
    "        else:\n",
    "            print(\"error: Invalind key_name!! key_name must contain only alphabets and no special characters or numbers\")\n",
    "            \n",
    "def read(key):\n",
    "    if key not in d:\n",
    "        print(\"error: given key does not exist in database. Please enter a valid key\")\n",
    "    else:\n",
    "        b=d[key]\n",
    "        if b[1]!=0:\n",
    "            if time.time()<b[1]:\n",
    "                stri=str(key)+\":\"+str(b[0]) \n",
    "                return stri\n",
    "            else:\n",
    "                print(\"error: time-to-live of\",key,\"has expired\") \n",
    "        else:\n",
    "            stri=str(key)+\":\"+str(b[0])\n",
    "            return stri\n",
    "\n",
    "\n",
    "def delete(key):\n",
    "    if key not in d:\n",
    "        print(\"error: given key does not exist in database. Please enter a valid key\")\n",
    "    else:\n",
    "        b=d[key]\n",
    "        if b[1]!=0:\n",
    "            if time.time()<b[1]: \n",
    "                del d[key]\n",
    "                print(\"key is deleted\")\n",
    "            else:\n",
    "                print(\"error: time-to-live of\",key,\"has expired\") \n",
    "        else:\n",
    "            del d[key]\n",
    "            print(\"key is deleted\")\n",
    "\n",
    "\n",
    "def modify(key,value):\n",
    "    b=d[key]\n",
    "    if b[1]!=0:\n",
    "        if time.time()<b[1]:\n",
    "            if key not in d:\n",
    "                print(\"error: given key does not exist in database. Please enter a valid key\")\n",
    "            else:\n",
    "                l=[]\n",
    "                l.append(value)\n",
    "                l.append(b[1])\n",
    "                d[key]=l\n",
    "        else:\n",
    "            print(\"error: time-to-live of\",key,\"has expired\") \n",
    "    else:\n",
    "        if key not in d:\n",
    "            print(\"error: given key does not exist in database. Please enter a valid key\")\n",
    "        else:\n",
    "            l=[]\n",
    "            l.append(value)\n",
    "            l.append(b[1])\n",
    "            d[key]=l"
   ]
  },
  {
   "cell_type": "code",
   "execution_count": 4,
   "metadata": {},
   "outputs": [],
   "source": [
    "create(\"chennai\",25)"
   ]
  },
  {
   "cell_type": "code",
   "execution_count": 6,
   "metadata": {},
   "outputs": [
    {
     "data": {
      "text/plain": [
       "'chennai:25'"
      ]
     },
     "execution_count": 6,
     "metadata": {},
     "output_type": "execute_result"
    }
   ],
   "source": [
    "read(\"chennai\")"
   ]
  },
  {
   "cell_type": "code",
   "execution_count": 7,
   "metadata": {},
   "outputs": [
    {
     "name": "stdout",
     "output_type": "stream",
     "text": [
      "error: given key does not exist in database. Please enter a valid key\n"
     ]
    }
   ],
   "source": [
    "read(\"bangalore\")"
   ]
  },
  {
   "cell_type": "code",
   "execution_count": null,
   "metadata": {},
   "outputs": [],
   "source": []
  }
 ],
 "metadata": {
  "kernelspec": {
   "display_name": "Python 3",
   "language": "python",
   "name": "python3"
  },
  "language_info": {
   "codemirror_mode": {
    "name": "ipython",
    "version": 3
   },
   "file_extension": ".py",
   "mimetype": "text/x-python",
   "name": "python",
   "nbconvert_exporter": "python",
   "pygments_lexer": "ipython3",
   "version": "3.7.3"
  }
 },
 "nbformat": 4,
 "nbformat_minor": 2
}
